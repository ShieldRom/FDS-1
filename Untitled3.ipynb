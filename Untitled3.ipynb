{
  "nbformat": 4,
  "nbformat_minor": 0,
  "metadata": {
    "colab": {
      "provenance": [],
      "collapsed_sections": []
    },
    "kernelspec": {
      "name": "python3",
      "display_name": "Python 3"
    },
    "language_info": {
      "name": "python"
    }
  },
  "cells": [
    {
      "cell_type": "markdown",
      "source": [
        "Standard Deviation: It is a number that describes how spread out the values are."
      ],
      "metadata": {
        "id": "-MAfpEE5B2XV"
      }
    },
    {
      "cell_type": "code",
      "source": [
        "import numpy as np  \n",
        "import pandas as pd\n",
        "df = pd.read_csv('/titanic_train.csv',usecols = [\"Age\"]) #by usecols we set an entire column in df\n",
        "x = np.std(df)  #np.std() function is used for this it accept 1 parameter\n",
        "print(x)"
      ],
      "metadata": {
        "colab": {
          "base_uri": "https://localhost:8080/"
        },
        "id": "_GkAZA94VkGp",
        "outputId": "b9847ac6-58d9-4bd5-e25e-71fe3ca28729"
      },
      "execution_count": 11,
      "outputs": [
        {
          "output_type": "stream",
          "name": "stdout",
          "text": [
            "Age    14.516321\n",
            "dtype: float64\n"
          ]
        }
      ]
    },
    {
      "cell_type": "code",
      "source": [
        "df = pd.read_csv('/purchases.csv',usecols = [\"purchase_count\"]) \n",
        "x = np.std(df)\n",
        "print(x)"
      ],
      "metadata": {
        "id": "YjlpT8dmWbn6",
        "colab": {
          "base_uri": "https://localhost:8080/"
        },
        "outputId": "c5fa0d1a-4a24-4c83-cd39-2a8a818fa6dd"
      },
      "execution_count": 12,
      "outputs": [
        {
          "output_type": "stream",
          "name": "stdout",
          "text": [
            "purchase_count    0.745395\n",
            "dtype: float64\n"
          ]
        }
      ]
    },
    {
      "cell_type": "markdown",
      "source": [
        "Variance:It is another number that indicates how spread out the values are.If you take the square root of the variance, you get the standard deviation!"
      ],
      "metadata": {
        "id": "Knii438kQqIy"
      }
    },
    {
      "cell_type": "code",
      "source": [
        "import numpy as np \n",
        "import pandas as pd\n",
        "df = pd.read_csv('/titanic_train.csv',usecols = [\"Age\"])\n",
        "x = np.var(df)  #np.var() function is used for this it accept 1 parameter\n",
        "print(x)"
      ],
      "metadata": {
        "id": "xsRclSz2Vknl",
        "colab": {
          "base_uri": "https://localhost:8080/"
        },
        "outputId": "e88ad6a6-9877-4dce-86fd-e4acb3a368b2"
      },
      "execution_count": 13,
      "outputs": [
        {
          "output_type": "stream",
          "name": "stdout",
          "text": [
            "Age    210.72358\n",
            "dtype: float64\n"
          ]
        }
      ]
    },
    {
      "cell_type": "code",
      "source": [
        "df = pd.read_csv('/purchases.csv',usecols = [\"purchase_count\"])\n",
        "x = np.var(df)\n",
        "print(x)"
      ],
      "metadata": {
        "colab": {
          "base_uri": "https://localhost:8080/"
        },
        "id": "IUTSdXDggnNb",
        "outputId": "f44eea3a-db3d-4177-f54b-8c79f3e21313"
      },
      "execution_count": 14,
      "outputs": [
        {
          "output_type": "stream",
          "name": "stdout",
          "text": [
            "purchase_count    0.555614\n",
            "dtype: float64\n"
          ]
        }
      ]
    },
    {
      "cell_type": "markdown",
      "source": [
        "Min:It is used to get the minimum value from a data.\n"
      ],
      "metadata": {
        "id": "OQ54uL0fQqkZ"
      }
    },
    {
      "cell_type": "code",
      "source": [
        "import numpy as np  \n",
        "import pandas as pd\n",
        "df = pd.read_csv('/gradedata.csv',usecols = [\"hours\"])\n",
        "x = np.min(df) #np.min() function is used for this it accept 1 parameter\n",
        "print(x)"
      ],
      "metadata": {
        "id": "OzJvVQn3Vlxo",
        "colab": {
          "base_uri": "https://localhost:8080/"
        },
        "outputId": "e8440582-160b-45a2-9c43-b3b8b2059d65"
      },
      "execution_count": 15,
      "outputs": [
        {
          "output_type": "stream",
          "name": "stdout",
          "text": [
            "hours    0\n",
            "dtype: int64\n"
          ]
        }
      ]
    },
    {
      "cell_type": "code",
      "source": [
        "df = pd.read_csv('/gradedata.csv',usecols = [\"grade\"])\n",
        "x = np.min(df)\n",
        "print(x)"
      ],
      "metadata": {
        "colab": {
          "base_uri": "https://localhost:8080/"
        },
        "id": "uUm0XrWfg5d_",
        "outputId": "9d5d7231-7f15-4506-a6e0-afa935f7b2eb"
      },
      "execution_count": 16,
      "outputs": [
        {
          "output_type": "stream",
          "name": "stdout",
          "text": [
            "grade    32.0\n",
            "dtype: float64\n"
          ]
        }
      ]
    },
    {
      "cell_type": "markdown",
      "source": [
        "Max:It is used to get the maximum value from a data.\n"
      ],
      "metadata": {
        "id": "JNhcEJ_BQqz2"
      }
    },
    {
      "cell_type": "code",
      "source": [
        "import numpy as np  \n",
        "import pandas as pd\n",
        "df = pd.read_csv('/gradedata.csv',usecols = [\"hours\"])\n",
        "x = np.max(df)  #np.max() function is used for this it accept 1 parameter\n",
        "print(x)"
      ],
      "metadata": {
        "id": "Qx8_DSnrVmOE",
        "colab": {
          "base_uri": "https://localhost:8080/"
        },
        "outputId": "b21ad2d0-fc08-45af-92a4-6580eda338d1"
      },
      "execution_count": 18,
      "outputs": [
        {
          "output_type": "stream",
          "name": "stdout",
          "text": [
            "hours    20\n",
            "dtype: int64\n"
          ]
        }
      ]
    },
    {
      "cell_type": "code",
      "source": [
        "df = pd.read_csv('/gradedata.csv',usecols = [\"grade\"])\n",
        "x = np.max(df)\n",
        "print(x)"
      ],
      "metadata": {
        "colab": {
          "base_uri": "https://localhost:8080/"
        },
        "id": "dJWgLK59hBGF",
        "outputId": "91400b18-ed67-44e0-a21c-ead46a6935e0"
      },
      "execution_count": 19,
      "outputs": [
        {
          "output_type": "stream",
          "name": "stdout",
          "text": [
            "grade    100.0\n",
            "dtype: float64\n"
          ]
        }
      ]
    },
    {
      "cell_type": "markdown",
      "source": [
        "Skewness"
      ],
      "metadata": {
        "id": "yrL_hmhoQrGs"
      }
    },
    {
      "cell_type": "code",
      "source": [
        "import numpy as np \n",
        "import pandas as pd\n",
        "df = pd.read_csv('/gradedata.csv',usecols = [\"age\"])\n",
        "x = pd.Series.skew(df)  #np.Series.skew() function is used for this it accept 1 parameter\n",
        "print(x)"
      ],
      "metadata": {
        "id": "AmTCGBnIVmqQ",
        "colab": {
          "base_uri": "https://localhost:8080/"
        },
        "outputId": "172e5441-6625-425e-a600-1b468ce98e9c"
      },
      "execution_count": 20,
      "outputs": [
        {
          "output_type": "stream",
          "name": "stdout",
          "text": [
            "age   -0.075333\n",
            "dtype: float64\n"
          ]
        }
      ]
    },
    {
      "cell_type": "code",
      "source": [
        "df = pd.read_csv('/gradedata.csv',usecols = [\"age\"])\n",
        "x = pd.Series.skew(df)\n",
        "print(x)"
      ],
      "metadata": {
        "colab": {
          "base_uri": "https://localhost:8080/"
        },
        "id": "_b7-12O2hC3d",
        "outputId": "cc08dd8f-b80f-4289-be46-20fc25b4ac15"
      },
      "execution_count": 21,
      "outputs": [
        {
          "output_type": "stream",
          "name": "stdout",
          "text": [
            "age   -0.075333\n",
            "dtype: float64\n"
          ]
        }
      ]
    },
    {
      "cell_type": "markdown",
      "source": [
        "Kurtosis"
      ],
      "metadata": {
        "id": "a1BLO0tjQrT2"
      }
    },
    {
      "cell_type": "code",
      "source": [
        "import numpy as np \n",
        "import pandas as pd\n",
        "df = pd.read_csv('/gradedata.csv',usecols = [\"hours\"])\n",
        "x = pd.Series.kurtosis(df)  #np.Series.kurtosis() function is used for this it accept 1 parameter\n",
        "print(x)"
      ],
      "metadata": {
        "id": "1dGkp8XmVnXk",
        "colab": {
          "base_uri": "https://localhost:8080/"
        },
        "outputId": "6ceff248-d299-4c27-f4a4-16f630fb626e"
      },
      "execution_count": 22,
      "outputs": [
        {
          "output_type": "stream",
          "name": "stdout",
          "text": [
            "hours   -0.573877\n",
            "dtype: float64\n"
          ]
        }
      ]
    },
    {
      "cell_type": "code",
      "source": [
        "df = pd.read_csv('/gradedata.csv',usecols = [\"hours\"])\n",
        "x = pd.Series.skew(df)\n",
        "print(x)"
      ],
      "metadata": {
        "colab": {
          "base_uri": "https://localhost:8080/"
        },
        "id": "XtGv0SbqhEhm",
        "outputId": "d3a76fa2-d472-4141-a3ff-2fe93a197f26"
      },
      "execution_count": 23,
      "outputs": [
        {
          "output_type": "stream",
          "name": "stdout",
          "text": [
            "hours   -0.020412\n",
            "dtype: float64\n"
          ]
        }
      ]
    },
    {
      "cell_type": "markdown",
      "source": [
        "Range:It is used to get difference between maximum and minimum value in an array."
      ],
      "metadata": {
        "id": "PVh0_8ogQrf4"
      }
    },
    {
      "cell_type": "code",
      "source": [
        "import pandas as pd   \n",
        "import numpy as np\n",
        "df = pd.read_csv('/state (1).csv',usecols = ['Population'])\n",
        "minimum = np.min(df)\n",
        "maximum = np.max(df)\n",
        "print('Range',maximum - minimum)  #To get range we need to use np.max() and np.min() then have to minus maximum no to minimum no"
      ],
      "metadata": {
        "id": "RD8AMZAqVn60",
        "colab": {
          "base_uri": "https://localhost:8080/"
        },
        "outputId": "38363fc6-57ba-4fe8-bd9a-54e927ea5d36"
      },
      "execution_count": 24,
      "outputs": [
        {
          "output_type": "stream",
          "name": "stdout",
          "text": [
            "Range Population    36690330\n",
            "dtype: int64\n"
          ]
        }
      ]
    },
    {
      "cell_type": "markdown",
      "source": [
        "Percentile:It is used in statistics to give you a number that describes the value that a given percent of the values are lower than.\n"
      ],
      "metadata": {
        "id": "B0X68AHQQrtp"
      }
    },
    {
      "cell_type": "code",
      "source": [
        "import numpy as np  \n",
        "import pandas as pd\n",
        "df = pd.read_csv('/state (1).csv',usecols = ['Population'])\n",
        "print(np.sort(df))\n",
        "x = np.percentile(df,25)  #np.percentile(,) it accept 2 parameter first is the data we need to change and another the percentile value ie.25th percentile\n",
        "print(\"25th Percentile: \",x)"
      ],
      "metadata": {
        "id": "VLUZ-1y7VoeZ",
        "colab": {
          "base_uri": "https://localhost:8080/"
        },
        "outputId": "f190657b-2e5d-487c-d053-ea42075c8f91"
      },
      "execution_count": 25,
      "outputs": [
        {
          "output_type": "stream",
          "name": "stdout",
          "text": [
            "[[ 4779736]\n",
            " [  710231]\n",
            " [ 6392017]\n",
            " [ 2915918]\n",
            " [37253956]\n",
            " [ 5029196]\n",
            " [ 3574097]\n",
            " [  897934]\n",
            " [18801310]\n",
            " [ 9687653]\n",
            " [ 1360301]\n",
            " [ 1567582]\n",
            " [12830632]\n",
            " [ 6483802]\n",
            " [ 3046355]\n",
            " [ 2853118]\n",
            " [ 4339367]\n",
            " [ 4533372]\n",
            " [ 1328361]\n",
            " [ 5773552]\n",
            " [ 6547629]\n",
            " [ 9883640]\n",
            " [ 5303925]\n",
            " [ 2967297]\n",
            " [ 5988927]\n",
            " [  989415]\n",
            " [ 1826341]\n",
            " [ 2700551]\n",
            " [ 1316470]\n",
            " [ 8791894]\n",
            " [ 2059179]\n",
            " [19378102]\n",
            " [ 9535483]\n",
            " [  672591]\n",
            " [11536504]\n",
            " [ 3751351]\n",
            " [ 3831074]\n",
            " [12702379]\n",
            " [ 1052567]\n",
            " [ 4625364]\n",
            " [  814180]\n",
            " [ 6346105]\n",
            " [25145561]\n",
            " [ 2763885]\n",
            " [  625741]\n",
            " [ 8001024]\n",
            " [ 6724540]\n",
            " [ 1852994]\n",
            " [ 5686986]\n",
            " [  563626]]\n",
            "25th Percentile:  1833004.25\n"
          ]
        }
      ]
    },
    {
      "cell_type": "code",
      "source": [
        "df = pd.read_csv('/state (1).csv',usecols = [\"Population\"])\n",
        "x = np.percentile(df,75)\n",
        "print(\"75th Percentile: \",x)"
      ],
      "metadata": {
        "colab": {
          "base_uri": "https://localhost:8080/"
        },
        "id": "kpSeue-ahGqA",
        "outputId": "1588d6a8-e6ac-4f17-a503-c4c739d2b3ec"
      },
      "execution_count": 26,
      "outputs": [
        {
          "output_type": "stream",
          "name": "stdout",
          "text": [
            "75th Percentile:  6680312.25\n"
          ]
        }
      ]
    },
    {
      "cell_type": "markdown",
      "source": [
        "Box plots:In the boxplot below, the box extends from the lower to upper quartile values of the data, with a line at the median."
      ],
      "metadata": {
        "id": "GQptGbf8QsYG"
      }
    },
    {
      "cell_type": "code",
      "execution_count": 27,
      "metadata": {
        "id": "UwmQWmlIBx1s",
        "colab": {
          "base_uri": "https://localhost:8080/",
          "height": 282
        },
        "outputId": "bc2edf8e-e0c8-46c2-ed96-ee7cfb7f1acf"
      },
      "outputs": [
        {
          "output_type": "execute_result",
          "data": {
            "text/plain": [
              "<matplotlib.axes._subplots.AxesSubplot at 0x7efdd5b8a990>"
            ]
          },
          "metadata": {},
          "execution_count": 27
        },
        {
          "output_type": "display_data",
          "data": {
            "text/plain": [
              "<Figure size 432x288 with 1 Axes>"
            ],
            "image/png": "[encoded data removed]"
          },
          "metadata": {
            "needs_background": "light"
          }
        }
      ],
      "source": [
        "import numpy as np  \n",
        "import pandas as pd\n",
        "dp = pd.read_csv('/heart.csv')\n",
        "dp.boxplot()\n",
        "#dp.boxplot(column=\"trestbps\") #dp.boxplot() it accept 0/1 parameter here its showing box representation of products.csv(dataset)"
      ]
    },
    {
      "cell_type": "code",
      "source": [
        "import numpy as np  \n",
        "import pandas as pd\n",
        "df = pd.read_csv('/state (1).csv')\n",
        "df.boxplot(column=\"Murder.Rate\") #df.boxplot() here it took 1 parameter to only show box data of specified column "
      ],
      "metadata": {
        "colab": {
          "base_uri": "https://localhost:8080/",
          "height": 282
        },
        "id": "nLoW1UyFhHyJ",
        "outputId": "a730b1f7-0e07-40e4-8158-a14886f06626"
      },
      "execution_count": 28,
      "outputs": [
        {
          "output_type": "execute_result",
          "data": {
            "text/plain": [
              "<matplotlib.axes._subplots.AxesSubplot at 0x7efdd596cb90>"
            ]
          },
          "metadata": {},
          "execution_count": 28
        },
        {
          "output_type": "display_data",
          "data": {
            "text/plain": [
              "<Figure size 432x288 with 1 Axes>"
            ],
            "image/png": "[encoded data removed]"
          },
          "metadata": {
            "needs_background": "light"
          }
        }
      ]
    }
  ]
}