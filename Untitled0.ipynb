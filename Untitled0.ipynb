{
  "nbformat": 4,
  "nbformat_minor": 0,
  "metadata": {
    "colab": {
      "provenance": [],
      "collapsed_sections": []
    },
    "kernelspec": {
      "name": "python3",
      "display_name": "Python 3"
    },
    "language_info": {
      "name": "python"
    }
  },
  "cells": [
    {
      "cell_type": "markdown",
      "source": [
        "***NUMPY*** \n",
        "\n",
        "---\n",
        "\n"
      ],
      "metadata": {
        "id": "aEvt8k07GSf_"
      }
    },
    {
      "cell_type": "code",
      "source": [
        "!ls"
      ],
      "metadata": {
        "colab": {
          "base_uri": "https://localhost:8080/"
        },
        "id": "-2QtS7JZJ55p",
        "outputId": "195ecaf7-1b44-44ad-a6e1-2081858a87a6"
      },
      "execution_count": null,
      "outputs": [
        {
          "output_type": "stream",
          "name": "stdout",
          "text": [
            "sample_data\n"
          ]
        }
      ]
    },
    {
      "cell_type": "code",
      "source": [
        "# to generate 10 random integer\n",
        "import numpy as np \n",
        "data={i:np.random.randint(10) for i in range(10)}\n",
        "data"
      ],
      "metadata": {
        "colab": {
          "base_uri": "https://localhost:8080/"
        },
        "id": "U5LW_z7_LTCy",
        "outputId": "3d77a29a-4add-4c85-a875-39d1cb4a8f03"
      },
      "execution_count": 2,
      "outputs": [
        {
          "output_type": "execute_result",
          "data": {
            "text/plain": [
              "{0: 7, 1: 5, 2: 2, 3: 5, 4: 9, 5: 5, 6: 0, 7: 1, 8: 8, 9: 5}"
            ]
          },
          "metadata": {},
          "execution_count": 2
        }
      ]
    },
    {
      "cell_type": "code",
      "source": [
        "np.random.rand()"
      ],
      "metadata": {
        "colab": {
          "base_uri": "https://localhost:8080/"
        },
        "id": "0B8WqYR9KKN2",
        "outputId": "2ba325a4-15d9-403e-da59-b2e8ad866fb1"
      },
      "execution_count": null,
      "outputs": [
        {
          "output_type": "execute_result",
          "data": {
            "text/plain": [
              "0.24623271752961462"
            ]
          },
          "metadata": {},
          "execution_count": 21
        }
      ]
    },
    {
      "cell_type": "markdown",
      "source": [
        "Checking and then Printing Armstrong Number "
      ],
      "metadata": {
        "id": "xQ9fjQU_eM8d"
      }
    },
    {
      "cell_type": "code",
      "source": [
        "number = 1634\n",
        "digits = len(str(number))\n",
        "temp = number\n",
        "add_sum = 0\n",
        "while temp != 0:\n",
        "    k = temp % 10\n",
        "    add_sum += k**digits\n",
        "    temp = temp//10\n",
        "if add_sum == number:\n",
        "    print('Given number is an Armstrong Number')\n",
        "else:\n",
        "    print('Given number is not a Armstrong Number')\n",
        "    "
      ],
      "metadata": {
        "id": "DgTAhW5qGwod",
        "colab": {
          "base_uri": "https://localhost:8080/"
        },
        "outputId": "23820117-e2ee-4596-f533-92d67225ad4c"
      },
      "execution_count": 3,
      "outputs": [
        {
          "output_type": "stream",
          "name": "stdout",
          "text": [
            "Given number is an Armstrong Number\n"
          ]
        }
      ]
    },
    {
      "cell_type": "code",
      "source": [
        "# ls is list files\n",
        "!ls"
      ],
      "metadata": {
        "colab": {
          "base_uri": "https://localhost:8080/"
        },
        "id": "Pjcw302QHRAA",
        "outputId": "d5b763e1-8c1e-4010-9f8b-a551710dd627"
      },
      "execution_count": null,
      "outputs": [
        {
          "output_type": "stream",
          "name": "stdout",
          "text": [
            "sample_data\n"
          ]
        }
      ]
    },
    {
      "cell_type": "markdown",
      "source": [
        "How to define a Function "
      ],
      "metadata": {
        "id": "dOU9swLOeqJV"
      }
    },
    {
      "cell_type": "code",
      "source": [
        "def append_element(present_list,member):\n",
        "  present_list.append(member)"
      ],
      "metadata": {
        "id": "rprkscWdJw3m"
      },
      "execution_count": null,
      "outputs": []
    },
    {
      "cell_type": "code",
      "source": [
        "a=[\"python\",\"java\",\"c++\",\".Net\"]\n",
        "append_element(a,\"cyber security\")\n",
        "a"
      ],
      "metadata": {
        "colab": {
          "base_uri": "https://localhost:8080/"
        },
        "id": "z0521WkXIUOD",
        "outputId": "561cfdec-ce64-4fc9-abed-3f62b4e168fa"
      },
      "execution_count": null,
      "outputs": [
        {
          "output_type": "execute_result",
          "data": {
            "text/plain": [
              "['python', 'java', 'c++', '.Net', 'cyber security']"
            ]
          },
          "metadata": {},
          "execution_count": 2
        }
      ]
    },
    {
      "cell_type": "code",
      "source": [
        "def area(radius):\n",
        "  print(\"Area of Circle : \",PI*radius*radius)\n",
        "\n",
        "def circumference(radius):\n",
        "  print(\"Circumference of Circle : \",2*PI*radius)"
      ],
      "metadata": {
        "id": "kxr-69gQLhaQ"
      },
      "execution_count": null,
      "outputs": []
    },
    {
      "cell_type": "code",
      "source": [
        "radius=50\n",
        "PI=3.14159\n",
        "area(50)\n",
        "circumference(50)"
      ],
      "metadata": {
        "colab": {
          "base_uri": "https://localhost:8080/"
        },
        "id": "cFvl3kfiMa1f",
        "outputId": "9e3d6ce4-1b50-4624-fe15-8362850ad96d"
      },
      "execution_count": null,
      "outputs": [
        {
          "output_type": "stream",
          "name": "stdout",
          "text": [
            "Area of Circle :  7853.974999999999\n",
            "Circumference of Circle :  314.159\n"
          ]
        }
      ]
    },
    {
      "cell_type": "markdown",
      "source": [
        "Using Tuple and Append( it is use to add item)"
      ],
      "metadata": {
        "id": "AUyJBybCfFwn"
      }
    },
    {
      "cell_type": "code",
      "source": [
        "tup=4,5,6\n",
        "tup1=(\"one\",2,\"three\")\n",
        "tup2=(14,15,16)\n",
        "tup3={1,2,3,4,5}\n",
        "tup4=tuple(['foo',[1,2],True])\n",
        "print(tup)\n",
        "print(tup1)\n",
        "print(tup2)\n",
        "print(tup3)\n",
        "print(tup4)\n",
        "type(tup4)\n",
        "print(tup4[0])\n",
        "print(tup4[1])\n",
        "print(tup4[2])\n",
        "tup4[1].append(3)\n",
        "print(tup4)\n",
        "tup5=([1,2],[3,4],[5,6])\n",
        "print(tup5)\n",
        "tup5[0].append(5)\n",
        "tup5[1].append(10)\n",
        "print(tup5)\n",
        "tup6=([10,11,12])\n",
        "tup+tup1+tup2\n",
        "tup7=('x',2)\n",
        "tup8=tup7*2\n",
        "print(tup8)\n",
        "tup9=tup7+tup7\n",
        "print(tup9)"
      ],
      "metadata": {
        "colab": {
          "base_uri": "https://localhost:8080/"
        },
        "id": "RH11XrAPQdSw",
        "outputId": "0387a353-3331-4ccf-b68e-0e42005e908b"
      },
      "execution_count": null,
      "outputs": [
        {
          "output_type": "stream",
          "name": "stdout",
          "text": [
            "(4, 5, 6)\n",
            "('one', 2, 'three')\n",
            "(14, 15, 16)\n",
            "{1, 2, 3, 4, 5}\n",
            "('foo', [1, 2], True)\n",
            "foo\n",
            "[1, 2]\n",
            "True\n",
            "('foo', [1, 2, 3], True)\n",
            "([1, 2], [3, 4], [5, 6])\n",
            "([1, 2, 5], [3, 4, 10], [5, 6])\n",
            "('x', 2, 'x', 2)\n",
            "('x', 2, 'x', 2)\n"
          ]
        }
      ]
    },
    {
      "cell_type": "code",
      "source": [
        "tup=(4,5,6)\n",
        "a,b,c=tup\n",
        "a\n"
      ],
      "metadata": {
        "colab": {
          "base_uri": "https://localhost:8080/"
        },
        "id": "QVRwy-69XbrL",
        "outputId": "88e3d2db-077e-4c97-cad0-7df34ada48a1"
      },
      "execution_count": null,
      "outputs": [
        {
          "output_type": "execute_result",
          "data": {
            "text/plain": [
              "4"
            ]
          },
          "metadata": {},
          "execution_count": 41
        }
      ]
    },
    {
      "cell_type": "markdown",
      "source": [
        "Swaping"
      ],
      "metadata": {
        "id": "4eSdqLPpfszL"
      }
    },
    {
      "cell_type": "code",
      "source": [
        "a,b=1,3\n",
        "print(\"Before Swap a={} and b={}\".format(a,b))\n",
        "a,b=b,a\n",
        "print(\"After Swap a={} and b={}\".format(a,b))"
      ],
      "metadata": {
        "colab": {
          "base_uri": "https://localhost:8080/"
        },
        "id": "L2KYXkvHYF0f",
        "outputId": "c7f6729f-b889-4128-937a-ba6ce9df8472"
      },
      "execution_count": null,
      "outputs": [
        {
          "output_type": "stream",
          "name": "stdout",
          "text": [
            "Before Swap a=1 and b=3\n",
            "After Swap a=3 and b=1\n"
          ]
        }
      ]
    },
    {
      "cell_type": "markdown",
      "source": [
        "Sequence"
      ],
      "metadata": {
        "id": "NA93nLBGf3m-"
      }
    },
    {
      "cell_type": "code",
      "source": [
        "seq = [(1,2,3),(4,5,6),(7,8,9)]\n",
        "for a,b,c in seq:\n",
        "  print('a={}, b={}, c={}'.format(a,b,c))"
      ],
      "metadata": {
        "colab": {
          "base_uri": "https://localhost:8080/"
        },
        "id": "4NtDwGIua2My",
        "outputId": "8f121e9a-7ba2-42c2-cf25-8c84338ffcf9"
      },
      "execution_count": null,
      "outputs": [
        {
          "output_type": "stream",
          "name": "stdout",
          "text": [
            "a=1, b=2, c=3\n",
            "a=4, b=5, c=6\n",
            "a=7, b=8, c=9\n"
          ]
        }
      ]
    },
    {
      "cell_type": "code",
      "source": [
        "seq1=[(10,20),(1,2)]\n",
        "r=0;r1=0"
      ],
      "metadata": {
        "id": "vvXXAUu-bXZ7"
      },
      "execution_count": null,
      "outputs": []
    },
    {
      "cell_type": "code",
      "source": [
        "seq = [(1,\"Amit\",\"MSc IT PI\"),(2,\"Amit\",\"MSc IT PI\"),(3,\"Amit\",\"MSc IT PI\")]\n",
        "for a,b,c in seq:\n",
        "  print('Roll NO : {},Name : {}, Class : {}'.format(a,b,c))"
      ],
      "metadata": {
        "colab": {
          "base_uri": "https://localhost:8080/"
        },
        "id": "JbIMOZMhOYrE",
        "outputId": "ead40ee4-2b62-4f64-ceb7-6acf7f3c5950"
      },
      "execution_count": null,
      "outputs": [
        {
          "output_type": "stream",
          "name": "stdout",
          "text": [
            "Roll NO : 1,Name : Amit, Class : MSc IT PI\n",
            "Roll NO : 2,Name : Amit, Class : MSc IT PI\n",
            "Roll NO : 3,Name : Amit, Class : MSc IT PI\n"
          ]
        }
      ]
    },
    {
      "cell_type": "code",
      "source": [
        "seq = [(1,\"Amit\",\"MSc IT PI\"),(2,\"Akash\",\"MSc IT PI\"),(3,\"Amit\",\"MSc IT PI\")]\n",
        "for a,b,c in seq:\n",
        "  print('Roll NO : {}\\nName : {}\\nClass : {}'.format(a,b,c))"
      ],
      "metadata": {
        "colab": {
          "base_uri": "https://localhost:8080/"
        },
        "id": "4UNJqd2IVcil",
        "outputId": "e0c6e0a6-9250-4452-c51e-79a1b02b8de4"
      },
      "execution_count": null,
      "outputs": [
        {
          "output_type": "stream",
          "name": "stdout",
          "text": [
            "Roll NO : 1\n",
            "Name : Amit\n",
            "Class : MSc IT PI\n",
            "Roll NO : 2\n",
            "Name : Akash\n",
            "Class : MSc IT PI\n",
            "Roll NO : 3\n",
            "Name : Amit\n",
            "Class : MSc IT PI\n"
          ]
        }
      ]
    },
    {
      "cell_type": "code",
      "source": [
        "values=1,450,70.23,\"Ash\",\"MSc IT PI\"\n",
        "rollno,marks,percentage,*rest=values"
      ],
      "metadata": {
        "id": "zdsKkt69VhvE"
      },
      "execution_count": null,
      "outputs": []
    },
    {
      "cell_type": "code",
      "source": [
        "rollno,marks,percentage"
      ],
      "metadata": {
        "colab": {
          "base_uri": "https://localhost:8080/"
        },
        "id": "7HMrwgMkV38M",
        "outputId": "bf685a18-fc23-4523-a6b1-7419590e856d"
      },
      "execution_count": null,
      "outputs": [
        {
          "output_type": "execute_result",
          "data": {
            "text/plain": [
              "(1, 450, 70.23)"
            ]
          },
          "metadata": {},
          "execution_count": 5
        }
      ]
    },
    {
      "cell_type": "code",
      "source": [
        "rest"
      ],
      "metadata": {
        "colab": {
          "base_uri": "https://localhost:8080/"
        },
        "id": "da_KWvRLV4Bc",
        "outputId": "6f34314f-8eab-478b-841b-81bd7d7842bc"
      },
      "execution_count": null,
      "outputs": [
        {
          "output_type": "execute_result",
          "data": {
            "text/plain": [
              "['Ash', 'MSc IT PI']"
            ]
          },
          "metadata": {},
          "execution_count": 6
        }
      ]
    },
    {
      "cell_type": "code",
      "source": [
        "s=1,450,70.23,\"Ash\",\"MSc IT PI\",2,\"Sumit\",\"MSc IT PI\"\n",
        "s.count(\"MSc IT PI\")"
      ],
      "metadata": {
        "colab": {
          "base_uri": "https://localhost:8080/"
        },
        "id": "0qUjamFeV4HD",
        "outputId": "c1270e4e-e39e-4503-a874-b7f85ef1323b"
      },
      "execution_count": null,
      "outputs": [
        {
          "output_type": "execute_result",
          "data": {
            "text/plain": [
              "2"
            ]
          },
          "metadata": {},
          "execution_count": 7
        }
      ]
    },
    {
      "cell_type": "code",
      "source": [
        "s1=[1,450,70.23,'Ash','MSc IT PI',2,'Sumit','MSc IT PI']\n",
        "s2=('Amit','MSc IT PI',2,'Sumit')\n",
        "s3=list(s2)\n",
        "print(s3)\n",
        "s3[3]='Pranali'\n",
        "print(s3[0])\n",
        "print(s3)"
      ],
      "metadata": {
        "colab": {
          "base_uri": "https://localhost:8080/"
        },
        "id": "wTFOcxmlV4Lr",
        "outputId": "a1a968ba-ff4f-4404-90b7-a050819279e4"
      },
      "execution_count": null,
      "outputs": [
        {
          "output_type": "stream",
          "name": "stdout",
          "text": [
            "['Amit', 'MSc IT PI', 2, 'Sumit']\n",
            "Amit\n",
            "['Amit', 'MSc IT PI', 2, 'Pranali']\n"
          ]
        }
      ]
    },
    {
      "cell_type": "code",
      "source": [
        "s3=['Amit', 'MSc IT PI', 2, 'Pranali']"
      ],
      "metadata": {
        "id": "OYdzg_PYdjf0"
      },
      "execution_count": null,
      "outputs": []
    },
    {
      "cell_type": "code",
      "source": [
        "s3.append(\"RJ\")\n",
        "s3.insert(5,\"collegeCode\")\n",
        "s3"
      ],
      "metadata": {
        "colab": {
          "base_uri": "https://localhost:8080/"
        },
        "id": "KgI2hMmYdpAV",
        "outputId": "609dc31c-ebaf-492e-beec-ad12fed8ec49"
      },
      "execution_count": null,
      "outputs": [
        {
          "output_type": "execute_result",
          "data": {
            "text/plain": [
              "['Amit', 'MSc IT PI', 2, 'Pranali', 'RJ', 'collegeCode']"
            ]
          },
          "metadata": {},
          "execution_count": 36
        }
      ]
    },
    {
      "cell_type": "code",
      "source": [
        "Total=len(s3)\n",
        "Total"
      ],
      "metadata": {
        "colab": {
          "base_uri": "https://localhost:8080/"
        },
        "id": "1uJbT6fdfWBV",
        "outputId": "5ede3244-2b98-4111-f747-ebba4ba517fd"
      },
      "execution_count": null,
      "outputs": [
        {
          "output_type": "execute_result",
          "data": {
            "text/plain": [
              "6"
            ]
          },
          "metadata": {},
          "execution_count": 33
        }
      ]
    },
    {
      "cell_type": "markdown",
      "source": [
        "Pop is use to remove item from list"
      ],
      "metadata": {
        "id": "eUcRT7RdgxjD"
      }
    },
    {
      "cell_type": "code",
      "source": [
        "Pop = s3.pop(3)\n",
        "print(Pop)\n",
        "print(s3)"
      ],
      "metadata": {
        "colab": {
          "base_uri": "https://localhost:8080/"
        },
        "id": "uALhdNumf_1F",
        "outputId": "2e3c1100-7343-4204-d23d-c86e2e1b9704"
      },
      "execution_count": null,
      "outputs": [
        {
          "output_type": "stream",
          "name": "stdout",
          "text": [
            "RJ\n",
            "['Amit', 'MSc IT PI', 2, 'collegeCode']\n"
          ]
        }
      ]
    },
    {
      "cell_type": "markdown",
      "source": [
        "Searching the item in list if present it return True(Boolean) and if not present it return False(Boolean)"
      ],
      "metadata": {
        "id": "wTufOZpSgW-m"
      }
    },
    {
      "cell_type": "code",
      "source": [
        "search = 'RJ' in s3\n",
        "print(search)"
      ],
      "metadata": {
        "colab": {
          "base_uri": "https://localhost:8080/"
        },
        "id": "nKiDV8H4gSZN",
        "outputId": "5dbf1917-54bd-48fb-8795-9a8f1c8ac434"
      },
      "execution_count": null,
      "outputs": [
        {
          "output_type": "stream",
          "name": "stdout",
          "text": [
            "False\n"
          ]
        }
      ]
    },
    {
      "cell_type": "code",
      "source": [
        "List1=[1,2,3]\n",
        "List2=[10,13,12,8,9,21]\n",
        "List1.extend(List2)\n",
        "print(List1)\n",
        "List1.sort()\n",
        "print(List1)"
      ],
      "metadata": {
        "colab": {
          "base_uri": "https://localhost:8080/"
        },
        "id": "StuGX_B_gwRO",
        "outputId": "15d663fd-536c-4d17-9255-20265c961335"
      },
      "execution_count": null,
      "outputs": [
        {
          "output_type": "stream",
          "name": "stdout",
          "text": [
            "[1, 2, 3, 10, 13, 12, 8, 9, 21]\n",
            "[1, 2, 3, 8, 9, 10, 12, 13, 21]\n"
          ]
        }
      ]
    },
    {
      "cell_type": "code",
      "source": [
        "seq = [7, 2, 3, 7, 5, 6, 0, 1]\n",
        "seq[1:5]"
      ],
      "metadata": {
        "colab": {
          "base_uri": "https://localhost:8080/"
        },
        "id": "qmllH7JUs_Bg",
        "outputId": "347ca967-8638-4290-9e85-2e68ac11b368"
      },
      "execution_count": null,
      "outputs": [
        {
          "output_type": "execute_result",
          "data": {
            "text/plain": [
              "[2, 3, 7, 5]"
            ]
          },
          "metadata": {},
          "execution_count": 46
        }
      ]
    },
    {
      "cell_type": "code",
      "source": [
        "set([2, 2, 2, 1, 3, 3])"
      ],
      "metadata": {
        "id": "BqlNR8vyvsv_",
        "colab": {
          "base_uri": "https://localhost:8080/"
        },
        "outputId": "16c362dd-98a6-4d57-a8f0-586ceb190f99"
      },
      "execution_count": null,
      "outputs": [
        {
          "output_type": "execute_result",
          "data": {
            "text/plain": [
              "{1, 2, 3}"
            ]
          },
          "metadata": {},
          "execution_count": 1
        }
      ]
    },
    {
      "cell_type": "markdown",
      "source": [
        "SET\n"
      ],
      "metadata": {
        "id": "lvVh2zJc3B4q"
      }
    },
    {
      "cell_type": "code",
      "source": [
        "a={2,3,4,6,7,8,9}\n",
        "b={0,1,3,4,5,6}\n",
        "c=a|b"
      ],
      "metadata": {
        "id": "Hq3rqYJAyHnw"
      },
      "execution_count": null,
      "outputs": []
    },
    {
      "cell_type": "code",
      "source": [
        "print(\"Union of 'a' and 'b' : \")\n",
        "print(a|b)\n",
        "a|=b\n",
        "print(\"Union of 'a' and 'b' in 'a' set: \")\n",
        "print(a)"
      ],
      "metadata": {
        "colab": {
          "base_uri": "https://localhost:8080/"
        },
        "id": "VA0U_CHY1oSL",
        "outputId": "5b8b85bc-bebc-4d62-ba8f-7704a91dadd2"
      },
      "execution_count": null,
      "outputs": [
        {
          "output_type": "stream",
          "name": "stdout",
          "text": [
            "Union of 'a' and 'b' : \n",
            "{0, 1, 2, 3, 4, 5, 6, 7, 8, 9}\n",
            "Union of 'a' and 'b' in 'a' set: \n",
            "{0, 1, 2, 3, 4, 5, 6, 7, 8, 9}\n"
          ]
        }
      ]
    },
    {
      "cell_type": "code",
      "source": [
        "print(\"Intersection of 'a' and 'b' : \")\n",
        "print(a&b)\n",
        "a&=b\n",
        "print(\"Intersection of 'a' and 'b' in 'a' set: \")\n",
        "print(a)"
      ],
      "metadata": {
        "colab": {
          "base_uri": "https://localhost:8080/"
        },
        "id": "lW5s12dA1veh",
        "outputId": "a278b4b7-5915-4c62-e1d4-c4b18d5b7d40"
      },
      "execution_count": null,
      "outputs": [
        {
          "output_type": "stream",
          "name": "stdout",
          "text": [
            "Intersection of 'a' and 'b' : \n",
            "{3, 4, 6}\n",
            "Intersection of 'a' and 'b' in 'a' set: \n",
            "{3, 4, 6}\n"
          ]
        }
      ]
    },
    {
      "cell_type": "code",
      "source": [
        "print(\"Difference of 'a' and 'b' : \")\n",
        "print(a-b)\n",
        "print(\"Difference of 'b' and 'a' : \")\n",
        "print(b-a)\n",
        "a-=b\n",
        "print(\"Difference of 'a' and 'b' in 'a' set: \")\n",
        "print(a)"
      ],
      "metadata": {
        "colab": {
          "base_uri": "https://localhost:8080/"
        },
        "id": "Ev-mxcqF2J5B",
        "outputId": "fd67ef72-2525-4a8c-ab8c-f3eafaed06c5"
      },
      "execution_count": null,
      "outputs": [
        {
          "output_type": "stream",
          "name": "stdout",
          "text": [
            "Difference of 'a' and 'b' : \n",
            "{8, 9, 2, 7}\n",
            "Difference of 'b' and 'a' : \n",
            "{0, 1, 5}\n",
            "Difference of 'a' and 'b' in 'a' set: \n",
            "{2, 7, 8, 9}\n"
          ]
        }
      ]
    },
    {
      "cell_type": "code",
      "source": [
        "print(\"Symmetric Difference of 'a' and 'b' : \")\n",
        "print(a^b)\n",
        "print(\"Symmetric Difference of b' and 'a' : \")\n",
        "print(b^a)\n",
        "a^=b\n",
        "print(\"Symmetric Difference of 'a' and 'b' in 'a' set: \")\n",
        "print(a)"
      ],
      "metadata": {
        "colab": {
          "base_uri": "https://localhost:8080/"
        },
        "id": "Yl-YEOT33RWx",
        "outputId": "e1f5c3f2-5f08-4739-ae98-b45611ba46fb"
      },
      "execution_count": null,
      "outputs": [
        {
          "output_type": "stream",
          "name": "stdout",
          "text": [
            "Symmetric Difference of 'a' and 'b' : \n",
            "{0, 1, 2, 5, 7, 8, 9}\n",
            "Symmetric Difference of b' and 'a' : \n",
            "{0, 1, 2, 5, 7, 8, 9}\n",
            "Symmetric Difference of 'a' and 'b' in 'a' set: \n",
            "{0, 1, 2, 5, 7, 8, 9}\n"
          ]
        }
      ]
    },
    {
      "cell_type": "code",
      "source": [
        "print(\"Is set'a' is Subset of set'b' : \")\n",
        "print(a.issubset(b))\n",
        "print(\"Is set'b' is Subset of set'a' : \")\n",
        "print(b.issubset(a))\n",
        "print(\"Is set'a' is Subset of set'c' : \")\n",
        "print(a.issubset(c))\n",
        "print(\"Is set'b' is Subset of set'c' : \")\n",
        "print(b.issubset(c))\n",
        "print(\"Is set'a' is Superset of set'b' : \")\n",
        "print(a.issuperset(b))\n",
        "print(\"Is set'b' is Superset of set'a' : \")\n",
        "print(b.issuperset(a))\n",
        "print(\"Is set'c' is Superset of set'a' : \")\n",
        "print(c.issuperset(a))\n",
        "print(\"Is set'c' is Superset of set'b' : \")\n",
        "print(c.issuperset(b))\n",
        "print(\"Is set'a' is DisJiont of set'b' : \")\n",
        "print(a.isdisjoint(b))"
      ],
      "metadata": {
        "colab": {
          "base_uri": "https://localhost:8080/"
        },
        "id": "_nrIBR-54nj5",
        "outputId": "8264a14b-2f5c-469c-e00c-42d05ad62e06"
      },
      "execution_count": null,
      "outputs": [
        {
          "output_type": "stream",
          "name": "stdout",
          "text": [
            "Is set'a' is Subset of set'b' : \n",
            "False\n",
            "Is set'b' is Subset of set'a' : \n",
            "False\n",
            "Is set'a' is Subset of set'c' : \n",
            "True\n",
            "Is set'b' is Subset of set'c' : \n",
            "True\n",
            "Is set'a' is Superset of set'b' : \n",
            "False\n",
            "Is set'b' is Superset of set'a' : \n",
            "False\n",
            "Is set'c' is Superset of set'a' : \n",
            "True\n",
            "Is set'c' is Superset of set'b' : \n",
            "True\n",
            "Is set'a' is DisJiont of set'b' : \n",
            "False\n"
          ]
        }
      ]
    },
    {
      "cell_type": "code",
      "source": [],
      "metadata": {
        "id": "C6Mb2-OD9Acu"
      },
      "execution_count": null,
      "outputs": []
    },
    {
      "cell_type": "markdown",
      "source": [
        "Bell Curve in Python\n",
        " "
      ],
      "metadata": {
        "id": "_ETW4_Mjt0W5"
      }
    },
    {
      "cell_type": "code",
      "source": [
        "import numpy as np\n",
        "import matplotlib.pyplot as plt\n",
        "from scipy.stats import norm\n"
      ],
      "metadata": {
        "id": "4SjahZbxuFsX"
      },
      "execution_count": null,
      "outputs": []
    },
    {
      "cell_type": "markdown",
      "source": [
        "create range of x-values from -7 to 7 in increments of .002"
      ],
      "metadata": {
        "id": "8vkKys0GuYZn"
      }
    },
    {
      "cell_type": "code",
      "source": [
        "x = np.arange(-7, 7, 0.002)"
      ],
      "metadata": {
        "id": "Y6B-CqYPuW_v"
      },
      "execution_count": null,
      "outputs": []
    },
    {
      "cell_type": "markdown",
      "source": [
        "create range of y-values that correspond to normal pdf with mean = 0 and sd = 2"
      ],
      "metadata": {
        "id": "q8Lj5Y-2uvjW"
      }
    },
    {
      "cell_type": "code",
      "source": [
        "y = norm.pdf(x,0,2)"
      ],
      "metadata": {
        "id": "gOi6l3you6l-"
      },
      "execution_count": null,
      "outputs": []
    },
    {
      "cell_type": "markdown",
      "source": [
        "define plot"
      ],
      "metadata": {
        "id": "POhHFOvBvCFY"
      }
    },
    {
      "cell_type": "code",
      "source": [
        "fig, ax = plt.subplots(figsize=(10,7))\n",
        "ax.plot(x,y)"
      ],
      "metadata": {
        "colab": {
          "base_uri": "https://localhost:8080/",
          "height": 445
        },
        "id": "RMi6qt0qvHF3",
        "outputId": "e5c225c3-4127-4b21-f494-1d3dabfbe8ba"
      },
      "execution_count": null,
      "outputs": [
        {
          "output_type": "execute_result",
          "data": {
            "text/plain": [
              "[<matplotlib.lines.Line2D at 0x7f8a2877f2d0>]"
            ]
          },
          "metadata": {},
          "execution_count": 4
        },
        {
          "output_type": "display_data",
          "data": {
            "text/plain": [
              "<Figure size 720x504 with 1 Axes>"
            ],
            "image/png": "[encoded data removed]"
          },
          "metadata": {
            "needs_background": "light"
          }
        }
      ]
    },
    {
      "cell_type": "markdown",
      "source": [
        "choose plot style and display the bell curve"
      ],
      "metadata": {
        "id": "pN3pBHRSvb_l"
      }
    },
    {
      "cell_type": "code",
      "source": [
        "plt.style.use('fivethirtyeight')\n",
        "plt.show()"
      ],
      "metadata": {
        "id": "czppo8GfvdEy"
      },
      "execution_count": null,
      "outputs": []
    },
    {
      "cell_type": "markdown",
      "source": [
        "23.4,34.5,67.8,95.9,25.4,56.6,43.4"
      ],
      "metadata": {
        "id": "POmgUutYxbkQ"
      }
    },
    {
      "cell_type": "code",
      "source": [
        "import numpy as np\n",
        "import matplotlib.pyplot as plt\n",
        "from scipy.stats import norm\n",
        "data=[23.4,34.5,67.8,95.9,25.4,56.6,43.4]\n",
        "x = np.\n",
        "y = norm.pdf(x,50,5)\n",
        "plt.plot(x, \"or\")\n",
        "plt.show() "
      ],
      "metadata": {
        "colab": {
          "base_uri": "https://localhost:8080/",
          "height": 282
        },
        "id": "CqeQpNawwVWf",
        "outputId": "1f3c5b54-196c-4645-de92-bb785cc0ff65"
      },
      "execution_count": null,
      "outputs": [
        {
          "output_type": "display_data",
          "data": {
            "text/plain": [
              "<Figure size 432x288 with 1 Axes>"
            ],
            "image/png": "[encoded data removed]"
          },
          "metadata": {}
        }
      ]
    },
    {
      "cell_type": "code",
      "source": [
        "import matplotlib.pyplot as plt"
      ],
      "metadata": {
        "id": "0A936D4Rqdnh"
      },
      "execution_count": null,
      "outputs": []
    },
    {
      "cell_type": "code",
      "source": [
        "x = range(0, 10)\n",
        "y = [2 * value for value in x]\n",
        "plt.plot(x, y)\n",
        "plt.show()"
      ],
      "metadata": {
        "colab": {
          "base_uri": "https://localhost:8080/",
          "height": 265
        },
        "id": "pDj-w29Bp9Ul",
        "outputId": "e9b94463-7023-4e47-84be-d7383fee2ebb"
      },
      "execution_count": null,
      "outputs": [
        {
          "output_type": "display_data",
          "data": {
            "text/plain": [
              "<Figure size 432x288 with 1 Axes>"
            ],
            "image/png": "[encoded data removed]"
          },
          "metadata": {
            "needs_background": "light"
          }
        }
      ]
    }
  ]
}