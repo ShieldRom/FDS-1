{
  "nbformat": 4,
  "nbformat_minor": 0,
  "metadata": {
    "colab": {
      "provenance": [],
      "collapsed_sections": []
    },
    "kernelspec": {
      "name": "python3",
      "display_name": "Python 3"
    },
    "language_info": {
      "name": "python"
    }
  },
  "cells": [
    {
      "cell_type": "markdown",
      "source": [
        "Conditional Probability"
      ],
      "metadata": {
        "id": "IfT0MmYPI1pA"
      }
    },
    {
      "cell_type": "markdown",
      "source": [
        "Example: Calculate Conditional Probability in Python"
      ],
      "metadata": {
        "id": "4oC4wxRqI4dH"
      }
    },
    {
      "cell_type": "code",
      "source": [
        "import pandas as pd\n",
        "import numpy as np\n",
        "#create pandas DataFrame with raw data\n",
        "df = pd.DataFrame({'gender': np.repeat(np.array(['Male', 'Female']), 150),\n",
        "                   'sport': np.repeat(np.array(['Baseball', 'Basketball', 'Football',\n",
        "                                                'Soccer', 'Baseball', 'Basketball',\n",
        "                                                'Football', 'Soccer']), \n",
        "                                    (34, 40, 58, 18, 34, 52, 20, 44))})\n",
        "#produce contingency table to summarize raw data\n",
        "survey_data = pd.crosstab(index=df['gender'], columns=df['sport'], margins=True)\n",
        "#view contingency table\n",
        "survey_data"
      ],
      "metadata": {
        "colab": {
          "base_uri": "https://localhost:8080/",
          "height": 175
        },
        "id": "xDNbLyjQKHVE",
        "outputId": "6e4713e4-61bd-493e-ddb0-82f9fa3875fb"
      },
      "execution_count": 1,
      "outputs": [
        {
          "output_type": "execute_result",
          "data": {
            "text/plain": [
              "sport   Baseball  Basketball  Football  Soccer  All\n",
              "gender                                             \n",
              "Female        34          52        20      44  150\n",
              "Male          34          40        58      18  150\n",
              "All           68          92        78      62  300"
            ],
            "text/html": [
              "\n",
              "  <div id=\"df-75a8cd84-ce36-4e5f-882f-e738554b92b8\">\n",
              "    <div class=\"colab-df-container\">\n",
              "      <div>\n",
              "<style scoped>\n",
              "    .dataframe tbody tr th:only-of-type {\n",
              "        vertical-align: middle;\n",
              "    }\n",
              "\n",
              "    .dataframe tbody tr th {\n",
              "        vertical-align: top;\n",
              "    }\n",
              "\n",
              "    .dataframe thead th {\n",
              "        text-align: right;\n",
              "    }\n",
              "</style>\n",
              "<table border=\"1\" class=\"dataframe\">\n",
              "  <thead>\n",
              "    <tr style=\"text-align: right;\">\n",
              "      <th>sport</th>\n",
              "      <th>Baseball</th>\n",
              "      <th>Basketball</th>\n",
              "      <th>Football</th>\n",
              "      <th>Soccer</th>\n",
              "      <th>All</th>\n",
              "    </tr>\n",
              "    <tr>\n",
              "      <th>gender</th>\n",
              "      <th></th>\n",
              "      <th></th>\n",
              "      <th></th>\n",
              "      <th></th>\n",
              "      <th></th>\n",
              "    </tr>\n",
              "  </thead>\n",
              "  <tbody>\n",
              "    <tr>\n",
              "      <th>Female</th>\n",
              "      <td>34</td>\n",
              "      <td>52</td>\n",
              "      <td>20</td>\n",
              "      <td>44</td>\n",
              "      <td>150</td>\n",
              "    </tr>\n",
              "    <tr>\n",
              "      <th>Male</th>\n",
              "      <td>34</td>\n",
              "      <td>40</td>\n",
              "      <td>58</td>\n",
              "      <td>18</td>\n",
              "      <td>150</td>\n",
              "    </tr>\n",
              "    <tr>\n",
              "      <th>All</th>\n",
              "      <td>68</td>\n",
              "      <td>92</td>\n",
              "      <td>78</td>\n",
              "      <td>62</td>\n",
              "      <td>300</td>\n",
              "    </tr>\n",
              "  </tbody>\n",
              "</table>\n",
              "</div>\n",
              "      <button class=\"colab-df-convert\" onclick=\"convertToInteractive('df-75a8cd84-ce36-4e5f-882f-e738554b92b8')\"\n",
              "              title=\"Convert this dataframe to an interactive table.\"\n",
              "              style=\"display:none;\">\n",
              "        \n",
              "  <svg xmlns=\"http://www.w3.org/2000/svg\" height=\"24px\"viewBox=\"0 0 24 24\"\n",
              "       width=\"24px\">\n",
              "    <path d=\"M0 0h24v24H0V0z\" fill=\"none\"/>\n",
              "    <path d=\"M18.56 5.44l.94 2.06.94-2.06 2.06-.94-2.06-.94-.94-2.06-.94 2.06-2.06.94zm-11 1L8.5 8.5l.94-2.06 2.06-.94-2.06-.94L8.5 2.5l-.94 2.06-2.06.94zm10 10l.94 2.06.94-2.06 2.06-.94-2.06-.94-.94-2.06-.94 2.06-2.06.94z\"/><path d=\"M17.41 7.96l-1.37-1.37c-.4-.4-.92-.59-1.43-.59-.52 0-1.04.2-1.43.59L10.3 9.45l-7.72 7.72c-.78.78-.78 2.05 0 2.83L4 21.41c.39.39.9.59 1.41.59.51 0 1.02-.2 1.41-.59l7.78-7.78 2.81-2.81c.8-.78.8-2.07 0-2.86zM5.41 20L4 18.59l7.72-7.72 1.47 1.35L5.41 20z\"/>\n",
              "  </svg>\n",
              "      </button>\n",
              "      \n",
              "  <style>\n",
              "    .colab-df-container {\n",
              "      display:flex;\n",
              "      flex-wrap:wrap;\n",
              "      gap: 12px;\n",
              "    }\n",
              "\n",
              "    .colab-df-convert {\n",
              "      background-color: #E8F0FE;\n",
              "      border: none;\n",
              "      border-radius: 50%;\n",
              "      cursor: pointer;\n",
              "      display: none;\n",
              "      fill: #1967D2;\n",
              "      height: 32px;\n",
              "      padding: 0 0 0 0;\n",
              "      width: 32px;\n",
              "    }\n",
              "\n",
              "    .colab-df-convert:hover {\n",
              "      background-color: #E2EBFA;\n",
              "      box-shadow: 0px 1px 2px rgba(60, 64, 67, 0.3), 0px 1px 3px 1px rgba(60, 64, 67, 0.15);\n",
              "      fill: #174EA6;\n",
              "    }\n",
              "\n",
              "    [theme=dark] .colab-df-convert {\n",
              "      background-color: #3B4455;\n",
              "      fill: #D2E3FC;\n",
              "    }\n",
              "\n",
              "    [theme=dark] .colab-df-convert:hover {\n",
              "      background-color: #434B5C;\n",
              "      box-shadow: 0px 1px 3px 1px rgba(0, 0, 0, 0.15);\n",
              "      filter: drop-shadow(0px 1px 2px rgba(0, 0, 0, 0.3));\n",
              "      fill: #FFFFFF;\n",
              "    }\n",
              "  </style>\n",
              "\n",
              "      <script>\n",
              "        const buttonEl =\n",
              "          document.querySelector('#df-75a8cd84-ce36-4e5f-882f-e738554b92b8 button.colab-df-convert');\n",
              "        buttonEl.style.display =\n",
              "          google.colab.kernel.accessAllowed ? 'block' : 'none';\n",
              "\n",
              "        async function convertToInteractive(key) {\n",
              "          const element = document.querySelector('#df-75a8cd84-ce36-4e5f-882f-e738554b92b8');\n",
              "          const dataTable =\n",
              "            await google.colab.kernel.invokeFunction('convertToInteractive',\n",
              "                                                     [key], {});\n",
              "          if (!dataTable) return;\n",
              "\n",
              "          const docLinkHtml = 'Like what you see? Visit the ' +\n",
              "            '<a target=\"_blank\" href=https://colab.research.google.com/notebooks/data_table.ipynb>data table notebook</a>'\n",
              "            + ' to learn more about interactive tables.';\n",
              "          element.innerHTML = '';\n",
              "          dataTable['output_type'] = 'display_data';\n",
              "          await google.colab.output.renderOutput(dataTable, element);\n",
              "          const docLink = document.createElement('div');\n",
              "          docLink.innerHTML = docLinkHtml;\n",
              "          element.appendChild(docLink);\n",
              "        }\n",
              "      </script>\n",
              "    </div>\n",
              "  </div>\n",
              "  "
            ]
          },
          "metadata": {},
          "execution_count": 1
        }
      ]
    },
    {
      "cell_type": "code",
      "source": [
        "#extract value in second row and first column \n",
        "survey_data.iloc[1, 0]"
      ],
      "metadata": {
        "colab": {
          "base_uri": "https://localhost:8080/"
        },
        "id": "SaXvKCQ_KHNs",
        "outputId": "ca52962e-b60c-4241-ea52-ca4a36a5c520"
      },
      "execution_count": 2,
      "outputs": [
        {
          "output_type": "execute_result",
          "data": {
            "text/plain": [
              "34"
            ]
          },
          "metadata": {},
          "execution_count": 2
        }
      ]
    },
    {
      "cell_type": "code",
      "source": [
        "#calculate probability of being male, given that individual prefers baseball\n",
        "survey_data.iloc[1, 0] / survey_data.iloc[2, 0]"
      ],
      "metadata": {
        "colab": {
          "base_uri": "https://localhost:8080/"
        },
        "id": "88bHrY0JKGz-",
        "outputId": "40c3b6c7-f44c-4b21-956c-6b52430e38fd"
      },
      "execution_count": 3,
      "outputs": [
        {
          "output_type": "execute_result",
          "data": {
            "text/plain": [
              "0.5"
            ]
          },
          "metadata": {},
          "execution_count": 3
        }
      ]
    },
    {
      "cell_type": "code",
      "source": [
        "#calculate probability of preferring basketball, given that individual is female\n",
        "survey_data.iloc[0, 1] / survey_data.iloc[0, 4]"
      ],
      "metadata": {
        "colab": {
          "base_uri": "https://localhost:8080/"
        },
        "id": "9_sVkX3iKKhD",
        "outputId": "678782da-9ba0-46ff-dec5-510900ad4842"
      },
      "execution_count": 4,
      "outputs": [
        {
          "output_type": "execute_result",
          "data": {
            "text/plain": [
              "0.3466666666666667"
            ]
          },
          "metadata": {},
          "execution_count": 4
        }
      ]
    },
    {
      "cell_type": "markdown",
      "source": [
        "Calculate the Coefficient of Variation"
      ],
      "metadata": {
        "id": "VFj8Uh2eI4me"
      }
    },
    {
      "cell_type": "markdown",
      "source": [
        "Example 1: Coefficient of Variation for a Single Array"
      ],
      "metadata": {
        "id": "XPbg8KZ3I4zH"
      }
    },
    {
      "cell_type": "code",
      "source": [
        "data = [88, 85, 82, 97, 67, 77, 74, 86, 81, 95, 77, 88, 85, 76, 81, 82]\n",
        "#define function to calculate cv\n",
        "cv = lambda x: np.std(x, ddof=1) / np.mean(x) * 100 \n",
        "#calculate CV\n",
        "cv(data)"
      ],
      "metadata": {
        "colab": {
          "base_uri": "https://localhost:8080/"
        },
        "id": "gkytT3cMKB6c",
        "outputId": "dfc41773-a356-42cb-ff84-66e08262505b"
      },
      "execution_count": 5,
      "outputs": [
        {
          "output_type": "execute_result",
          "data": {
            "text/plain": [
              "9.234517604065275"
            ]
          },
          "metadata": {},
          "execution_count": 5
        }
      ]
    },
    {
      "cell_type": "markdown",
      "source": [
        "Example 2: Coefficient of Variation for Several Vectors"
      ],
      "metadata": {
        "id": "_VLucNA0I4-7"
      }
    },
    {
      "cell_type": "code",
      "source": [
        "import numpy as np\n",
        "import pandas as pd\n",
        "#define function to calculate cv\n",
        "cv = lambda x: np.std(x, ddof=1) / np.mean(x) * 100 \n",
        "#create pandas DataFrame\n",
        "df = pd.DataFrame({'a': [88, 85, 82, 97, 67, 77, 74, 86, 81, 95],\n",
        "                   'b': [77, 88, 85, 76, 81, 82, 88, 91, 92, 99],\n",
        "                   'c': [67, 68, 68, 74, 74, 76, 76, 77, 78, 84]})\n",
        "#calculate CV for each column in data frame\n",
        "df.apply(cv)"
      ],
      "metadata": {
        "colab": {
          "base_uri": "https://localhost:8080/"
        },
        "id": "g6Y8SwKpJ-AC",
        "outputId": "980d83f6-fa0a-47fa-9cfe-d127012dbb3f"
      },
      "execution_count": 6,
      "outputs": [
        {
          "output_type": "execute_result",
          "data": {
            "text/plain": [
              "a    11.012892\n",
              "b     8.330843\n",
              "c     7.154009\n",
              "dtype: float64"
            ]
          },
          "metadata": {},
          "execution_count": 6
        }
      ]
    },
    {
      "cell_type": "markdown",
      "source": [
        "Percentiles"
      ],
      "metadata": {
        "id": "-b8A4h5jI5I6"
      }
    },
    {
      "cell_type": "markdown",
      "source": [
        "Percentiles of an Array:"
      ],
      "metadata": {
        "id": "icfQeKnOI5Ss"
      }
    },
    {
      "cell_type": "code",
      "source": [
        "import numpy as np\n",
        "#make this example reproducible\n",
        "np.random.seed(0)\n",
        "#create array of 100 random integers distributed between 0 and 500\n",
        "data = np.random.randint(0, 500, 100)\n",
        "#find the 37th percentile of the array\n",
        "np.percentile(data, 37)"
      ],
      "metadata": {
        "colab": {
          "base_uri": "https://localhost:8080/"
        },
        "id": "dHafecp0Jwa3",
        "outputId": "67be1354-e4f6-4b85-c084-80d0eb72c30f"
      },
      "execution_count": 7,
      "outputs": [
        {
          "output_type": "execute_result",
          "data": {
            "text/plain": [
              "173.26"
            ]
          },
          "metadata": {},
          "execution_count": 7
        }
      ]
    },
    {
      "cell_type": "code",
      "source": [
        "#Find the quartiles (25th, 50th, and 75th percentiles) of the array\n",
        "np.percentile(data, [25, 50, 75])"
      ],
      "metadata": {
        "colab": {
          "base_uri": "https://localhost:8080/"
        },
        "id": "aNO2Lm2MJwOu",
        "outputId": "248cd14e-b05c-418c-ea18-abd66829c838"
      },
      "execution_count": 8,
      "outputs": [
        {
          "output_type": "execute_result",
          "data": {
            "text/plain": [
              "array([116.5, 243.5, 371.5])"
            ]
          },
          "metadata": {},
          "execution_count": 8
        }
      ]
    },
    {
      "cell_type": "markdown",
      "source": [
        "Percentiles of a DataFrame Column:"
      ],
      "metadata": {
        "id": "PwmNK5PHI5cN"
      }
    },
    {
      "cell_type": "code",
      "source": [
        "import numpy as np \n",
        "import pandas as pd\n",
        "#create DataFrame\n",
        "df = pd.DataFrame({'var1': [25, 12, 15, 14, 19, 23, 25, 29, 33, 35],\n",
        "                   'var2': [5, 7, 7, 9, 12, 9, 9, 4, 14, 15],\n",
        "                   'var3': [11, 8, 10, 6, 6, 5, 9, 12, 13, 16]})\n",
        "#find 90th percentile of var1 column\n",
        "np.percentile(df.var1, 95)"
      ],
      "metadata": {
        "colab": {
          "base_uri": "https://localhost:8080/"
        },
        "id": "4QkBTT3WJuOX",
        "outputId": "ca79aad9-fff3-4548-d735-097a26f85e06"
      },
      "execution_count": 9,
      "outputs": [
        {
          "output_type": "execute_result",
          "data": {
            "text/plain": [
              "34.099999999999994"
            ]
          },
          "metadata": {},
          "execution_count": 9
        }
      ]
    },
    {
      "cell_type": "markdown",
      "source": [
        "Percentiles of Several DataFrame Columns:"
      ],
      "metadata": {
        "id": "CyfSKgLBI5l_"
      }
    },
    {
      "cell_type": "code",
      "source": [
        "import numpy as np \n",
        "import pandas as pd\n",
        "#create DataFrame\n",
        "df = pd.DataFrame({'var1': [25, 12, 15, 14, 19, 23, 25, 29, 33, 35],\n",
        "                   'var2': [5, 7, 7, 9, 12, 9, 9, 4, 14, 15],\n",
        "                   'var3': [11, 8, 10, 6, 6, 5, 9, 12, 13, 16]})\n",
        "#find 95th percentile of each column\n",
        "df.quantile(.95)"
      ],
      "metadata": {
        "colab": {
          "base_uri": "https://localhost:8080/"
        },
        "id": "8_lvbrDgJiIn",
        "outputId": "34ced41b-16c0-49bf-fd57-2a010a8c731d"
      },
      "execution_count": 10,
      "outputs": [
        {
          "output_type": "execute_result",
          "data": {
            "text/plain": [
              "var1    34.10\n",
              "var2    14.55\n",
              "var3    14.65\n",
              "Name: 0.95, dtype: float64"
            ]
          },
          "metadata": {},
          "execution_count": 10
        }
      ]
    },
    {
      "cell_type": "code",
      "source": [
        "#find 95th percentile of just columns var1 and var2\n",
        "df[['var1', 'var2']].quantile(.95)"
      ],
      "metadata": {
        "colab": {
          "base_uri": "https://localhost:8080/"
        },
        "id": "CE8KCzlqJm9K",
        "outputId": "0b133fc4-3503-45ca-f470-0f2ff15c920d"
      },
      "execution_count": 11,
      "outputs": [
        {
          "output_type": "execute_result",
          "data": {
            "text/plain": [
              "var1    34.10\n",
              "var2    14.55\n",
              "Name: 0.95, dtype: float64"
            ]
          },
          "metadata": {},
          "execution_count": 11
        }
      ]
    }
  ]
}